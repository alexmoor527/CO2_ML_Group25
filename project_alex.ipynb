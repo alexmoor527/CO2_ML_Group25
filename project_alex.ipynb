{
 "cells": [
  {
   "cell_type": "code",
   "id": "initial_id",
   "metadata": {
    "collapsed": true,
    "ExecuteTime": {
     "end_time": "2025-01-01T15:49:04.498476Z",
     "start_time": "2025-01-01T15:49:01.047996Z"
    }
   },
   "source": [
    "import matplotlib.pyplot as plt\n",
    "import numpy as np\n",
    "import pandas as pd\n",
    "\n",
    "from sklearn.model_selection import train_test_split, GridSearchCV\n",
    "from sklearn.preprocessing import StandardScaler, LabelEncoder\n",
    "from sklearn.ensemble import RandomForestClassifier\n",
    "from sklearn.metrics import accuracy_score, confusion_matrix, classification_report\n",
    "\n"
   ],
   "outputs": [],
   "execution_count": 1
  },
  {
   "metadata": {
    "ExecuteTime": {
     "end_time": "2025-01-01T15:50:57.236747Z",
     "start_time": "2025-01-01T15:50:57.041150Z"
    }
   },
   "cell_type": "code",
   "source": [
    "df = pd.read_csv(\".venv/codon_usage.csv\")\n",
    "\n",
    "print(df.head())\n",
    "print(df.info())\n",
    "\n",
    "\n"
   ],
   "id": "3c2cee48754338f7",
   "outputs": [
    {
     "name": "stdout",
     "output_type": "stream",
     "text": [
      "  Kingdom  DNAtype  SpeciesID  Ncodons  \\\n",
      "0     vrl        0     100217     1995   \n",
      "1     vrl        0     100220     1474   \n",
      "2     vrl        0     100755     4862   \n",
      "3     vrl        0     100880     1915   \n",
      "4     vrl        0     100887    22831   \n",
      "\n",
      "                               SpeciesName      UUU      UUC      UUA  \\\n",
      "0  Epizootic haematopoietic necrosis virus  0.01654  0.01203  0.00050   \n",
      "1                         Bohle iridovirus  0.02714  0.01357  0.00068   \n",
      "2             Sweet potato leaf curl virus  0.01974   0.0218  0.01357   \n",
      "3             Northern cereal mosaic virus  0.01775  0.02245  0.01619   \n",
      "4           Soil-borne cereal mosaic virus  0.02816  0.01371  0.00767   \n",
      "\n",
      "       UUG      CUU  ...      CGG      AGA      AGG      GAU      GAC  \\\n",
      "0  0.00351  0.01203  ...  0.00451  0.01303  0.03559  0.01003  0.04612   \n",
      "1  0.00678  0.00407  ...  0.00136  0.01696  0.03596  0.01221  0.04545   \n",
      "2  0.01543  0.00782  ...  0.00596  0.01974  0.02489  0.03126  0.02036   \n",
      "3  0.00992  0.01567  ...  0.00366  0.01410  0.01671  0.03760  0.01932   \n",
      "4  0.03679  0.01380  ...  0.00604  0.01494  0.01734  0.04148  0.02483   \n",
      "\n",
      "       GAA      GAG      UAA      UAG      UGA  \n",
      "0  0.01203  0.04361  0.00251  0.00050  0.00000  \n",
      "1  0.01560  0.04410  0.00271  0.00068  0.00000  \n",
      "2  0.02242  0.02468  0.00391  0.00000  0.00144  \n",
      "3  0.03029  0.03446  0.00261  0.00157  0.00000  \n",
      "4  0.03359  0.03679  0.00000  0.00044  0.00131  \n",
      "\n",
      "[5 rows x 69 columns]\n",
      "<class 'pandas.core.frame.DataFrame'>\n",
      "RangeIndex: 13028 entries, 0 to 13027\n",
      "Data columns (total 69 columns):\n",
      " #   Column       Non-Null Count  Dtype  \n",
      "---  ------       --------------  -----  \n",
      " 0   Kingdom      13028 non-null  object \n",
      " 1   DNAtype      13028 non-null  int64  \n",
      " 2   SpeciesID    13028 non-null  int64  \n",
      " 3   Ncodons      13028 non-null  int64  \n",
      " 4   SpeciesName  13028 non-null  object \n",
      " 5   UUU          13028 non-null  object \n",
      " 6   UUC          13028 non-null  object \n",
      " 7   UUA          13028 non-null  float64\n",
      " 8   UUG          13028 non-null  float64\n",
      " 9   CUU          13028 non-null  float64\n",
      " 10  CUC          13028 non-null  float64\n",
      " 11  CUA          13028 non-null  float64\n",
      " 12  CUG          13028 non-null  float64\n",
      " 13  AUU          13028 non-null  float64\n",
      " 14  AUC          13028 non-null  float64\n",
      " 15  AUA          13028 non-null  float64\n",
      " 16  AUG          13028 non-null  float64\n",
      " 17  GUU          13028 non-null  float64\n",
      " 18  GUC          13028 non-null  float64\n",
      " 19  GUA          13028 non-null  float64\n",
      " 20  GUG          13028 non-null  float64\n",
      " 21  GCU          13028 non-null  float64\n",
      " 22  GCC          13028 non-null  float64\n",
      " 23  GCA          13028 non-null  float64\n",
      " 24  GCG          13028 non-null  float64\n",
      " 25  CCU          13028 non-null  float64\n",
      " 26  CCC          13028 non-null  float64\n",
      " 27  CCA          13028 non-null  float64\n",
      " 28  CCG          13028 non-null  float64\n",
      " 29  UGG          13028 non-null  float64\n",
      " 30  GGU          13028 non-null  float64\n",
      " 31  GGC          13028 non-null  float64\n",
      " 32  GGA          13028 non-null  float64\n",
      " 33  GGG          13028 non-null  float64\n",
      " 34  UCU          13028 non-null  float64\n",
      " 35  UCC          13028 non-null  float64\n",
      " 36  UCA          13028 non-null  float64\n",
      " 37  UCG          13028 non-null  float64\n",
      " 38  AGU          13028 non-null  float64\n",
      " 39  AGC          13028 non-null  float64\n",
      " 40  ACU          13028 non-null  float64\n",
      " 41  ACC          13028 non-null  float64\n",
      " 42  ACA          13028 non-null  float64\n",
      " 43  ACG          13028 non-null  float64\n",
      " 44  UAU          13028 non-null  float64\n",
      " 45  UAC          13028 non-null  float64\n",
      " 46  CAA          13028 non-null  float64\n",
      " 47  CAG          13028 non-null  float64\n",
      " 48  AAU          13028 non-null  float64\n",
      " 49  AAC          13028 non-null  float64\n",
      " 50  UGU          13028 non-null  float64\n",
      " 51  UGC          13028 non-null  float64\n",
      " 52  CAU          13028 non-null  float64\n",
      " 53  CAC          13028 non-null  float64\n",
      " 54  AAA          13028 non-null  float64\n",
      " 55  AAG          13028 non-null  float64\n",
      " 56  CGU          13028 non-null  float64\n",
      " 57  CGC          13028 non-null  float64\n",
      " 58  CGA          13028 non-null  float64\n",
      " 59  CGG          13028 non-null  float64\n",
      " 60  AGA          13028 non-null  float64\n",
      " 61  AGG          13028 non-null  float64\n",
      " 62  GAU          13028 non-null  float64\n",
      " 63  GAC          13028 non-null  float64\n",
      " 64  GAA          13028 non-null  float64\n",
      " 65  GAG          13028 non-null  float64\n",
      " 66  UAA          13028 non-null  float64\n",
      " 67  UAG          13028 non-null  float64\n",
      " 68  UGA          13028 non-null  float64\n",
      "dtypes: float64(62), int64(3), object(4)\n",
      "memory usage: 6.9+ MB\n",
      "None\n"
     ]
    },
    {
     "name": "stderr",
     "output_type": "stream",
     "text": [
      "/tmp/ipykernel_550676/2429841065.py:1: DtypeWarning: Columns (5,6) have mixed types. Specify dtype option on import or set low_memory=False.\n",
      "  df = pd.read_csv(\"codon_usage.csv\")\n"
     ]
    }
   ],
   "execution_count": 5
  }
 ],
 "metadata": {
  "kernelspec": {
   "display_name": "Python 3",
   "language": "python",
   "name": "python3"
  },
  "language_info": {
   "codemirror_mode": {
    "name": "ipython",
    "version": 2
   },
   "file_extension": ".py",
   "mimetype": "text/x-python",
   "name": "python",
   "nbconvert_exporter": "python",
   "pygments_lexer": "ipython2",
   "version": "2.7.6"
  }
 },
 "nbformat": 4,
 "nbformat_minor": 5
}
